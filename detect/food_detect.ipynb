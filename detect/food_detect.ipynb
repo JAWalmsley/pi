{
  "nbformat": 4,
  "nbformat_minor": 0,
  "metadata": {
    "colab": {
      "provenance": [],
      "private_outputs": true
    },
    "kernelspec": {
      "name": "python3",
      "display_name": "Python 3"
    },
    "language_info": {
      "name": "python"
    },
    "accelerator": "GPU",
    "gpuClass": "standard"
  },
  "cells": [
    {
      "cell_type": "markdown",
      "source": [
        "## Check Tensorflow Version and if installed"
      ],
      "metadata": {
        "id": "UzjBHcFgMBkg"
      }
    },
    {
      "cell_type": "code",
      "execution_count": null,
      "metadata": {
        "id": "FzZiYcCl41_P"
      },
      "outputs": [],
      "source": [
        "!pip show tensorflow"
      ]
    },
    {
      "cell_type": "markdown",
      "source": [
        "## Import and check GPU\n",
        "- Should be on cloud GPU as dataset is too large for most local GPUs"
      ],
      "metadata": {
        "id": "znSzkPOZMOo6"
      }
    },
    {
      "cell_type": "code",
      "source": [
        "# Import required Libraries\n",
        "import tensorflow as tf\n",
        "import tensorflow_datasets as tfds\n",
        "from tensorflow import keras\n",
        "import cv2\n",
        "import numpy as np\n",
        "\n",
        "# Ensure it is not run locally\n",
        "print(tf.test.gpu_device_name())"
      ],
      "metadata": {
        "id": "tbDkxKBl5LbN"
      },
      "execution_count": null,
      "outputs": []
    },
    {
      "cell_type": "markdown",
      "source": [
        "## Setup Model"
      ],
      "metadata": {
        "id": "zPDekVYEMTCg"
      }
    },
    {
      "cell_type": "code",
      "source": [
        "# Load food dataset from tfds\n",
        "data = tfds.load(\"food101\", split=\"train[:75%]\", as_supervised=True) #Training 75% \n",
        "data = data.map(lambda x, y: (x, tf.one_hot(y, depth=101)))\n",
        "data = data.shuffle(1024).batch(32).prefetch(tf.data.AUTOTUNE)\n",
        "\n",
        "# Create training model\n",
        "model = tf.keras.Sequential([\n",
        "    tf.keras.layers.Conv2D(32, (3, 3), activation='relu', input_shape=(224, 224, 3)),\n",
        "    tf.keras.layers.MaxPooling2D((2, 2)),\n",
        "    tf.keras.layers.Conv2D(64, (3, 3), activation='relu'),\n",
        "    tf.keras.layers.MaxPooling2D((2, 2)),\n",
        "    tf.keras.layers.Conv2D(128, (3, 3), activation='relu'),\n",
        "    tf.keras.layers.MaxPooling2D((2, 2)),\n",
        "    tf.keras.layers.Flatten(),\n",
        "    tf.keras.layers.Dense(128, activation='relu'),\n",
        "    tf.keras.layers.Dense(101, activation='softmax')\n",
        "])\n"
      ],
      "metadata": {
        "id": "0H03SjFm5Tux"
      },
      "execution_count": null,
      "outputs": []
    },
    {
      "cell_type": "markdown",
      "source": [
        "## View Model Summary"
      ],
      "metadata": {
        "id": "MMx6BL4TM2o9"
      }
    },
    {
      "cell_type": "code",
      "source": [
        "model.summary()"
      ],
      "metadata": {
        "id": "15Ai10cCMy8t"
      },
      "execution_count": null,
      "outputs": []
    },
    {
      "cell_type": "markdown",
      "source": [
        "## Training Model"
      ],
      "metadata": {
        "id": "wy4gnb6dM87e"
      }
    },
    {
      "cell_type": "code",
      "source": [
        "model.compile(optimizer='adam', loss='categorical_crossentropy', metrics=['accuracy'])\n",
        "model.fit(data, epochs=10)"
      ],
      "metadata": {
        "id": "6lApJa3YNBYC"
      },
      "execution_count": null,
      "outputs": []
    },
    {
      "cell_type": "markdown",
      "source": [
        "## Image Classification"
      ],
      "metadata": {
        "id": "vmupnfjcMZQS"
      }
    },
    {
      "cell_type": "code",
      "source": [
        "# Load item1\n",
        "img = cv2.imread('food_images/item1.jpg') \n",
        "\n",
        "# Resize the image to align with model's parameters \n",
        "img = cv2.resize(img, (224, 224))\n",
        "\n",
        "# Convert type, normalize and add batch size\n",
        "img = img.astype('float32')\n",
        "img /= 255\n",
        "img = np.expand_dims(img, axis=0)\n",
        "\n",
        "# Get the prediction \n",
        "preds = model.predict(img)\n",
        "class_idx = np.argmax(preds[0])\n",
        "print(class_idx)\n",
        "\n",
        "# Use class names from dataset to output specific name of food "
      ],
      "metadata": {
        "id": "HT67TesAocii"
      },
      "execution_count": null,
      "outputs": []
    }
  ]
}